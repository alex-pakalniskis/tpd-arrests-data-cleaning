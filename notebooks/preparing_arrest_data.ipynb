{
 "cells": [
  {
   "cell_type": "markdown",
   "metadata": {},
   "source": [
    "# Preparing TPD arrest data for spatial analysis and visualizations\n",
    "### Libraries"
   ]
  },
  {
   "cell_type": "code",
   "execution_count": 1,
   "metadata": {},
   "outputs": [],
   "source": [
    "import geopandas as gpd\n",
    "import pandas as pd\n",
    "import matplotlib.pyplot as plt\n",
    "import seaborn as sns\n",
    "sns.set(palette=\"colorblind\")"
   ]
  },
  {
   "cell_type": "markdown",
   "metadata": {},
   "source": [
    "### Data Path and Relevant Parameters"
   ]
  },
  {
   "cell_type": "code",
   "execution_count": 16,
   "metadata": {},
   "outputs": [],
   "source": [
    "# Tucson, AZ Police Department Arrest Data 2016-2019\n",
    "arrests_csv = \"../data/TPD_Arrests_2016-19.csv\"\n",
    "# Projection information for X,Y attributes in arrest data \n",
    "arrest_prj_info = 'epsg:2868'\n",
    "# Projection information for longitude, latitude attributes\n",
    "geographic_prj_info = \"EPSG:4326\""
   ]
  },
  {
   "cell_type": "markdown",
   "metadata": {},
   "source": [
    "### Functions"
   ]
  },
  {
   "cell_type": "code",
   "execution_count": 17,
   "metadata": {},
   "outputs": [],
   "source": [
    "def prepare_data(input_csv):\n",
    "    \"\"\"\n",
    "    Function to prepare arrest data for additional analyses and visualizations.\n",
    "    \n",
    "    Steps:\n",
    "    * Read CSV data with pandas and store in memory as a DataFrame\n",
    "    * Removes rows with null geometries from DataFrame\n",
    "    * Transform time information to pandas datetime format\n",
    "    * Add additional columns for month and year attributes\n",
    "    * Convert pandas DataFrame to geopandas GeoDataFrame\n",
    "    * Set projection to appropriate proj string\n",
    "    * Calculate geographic coordinates for visualizations\n",
    "    * Subset for columns of interest\n",
    "    \n",
    "    Returns a geopandas GeoDataFrame of point geometries\n",
    "    \"\"\"\n",
    "    df = pd.read_csv(input_csv, low_memory=False)\n",
    "    removed_null_geometries = df[(df.X > 0) & (df.Y > 0)].copy()\n",
    "    removed_null_geometries[\"dt_info\"] = pd.to_datetime(removed_null_geometries[\"datetime_arr\"])\n",
    "    removed_null_geometries[\"month\"] = removed_null_geometries[\"dt_info\"].dt.month\n",
    "    removed_null_geometries[\"year\"] = removed_null_geometries[\"dt_info\"].dt.year\n",
    "    gdf = gpd.GeoDataFrame(removed_null_geometries, geometry=gpd.points_from_xy(removed_null_geometries.X, removed_null_geometries.Y))\n",
    "    gdf.crs = prj_info\n",
    "    gdf[\"lat\"]= gdf[\"geometry\"].to_crs(geographic_prj_info).y\n",
    "    gdf[\"lon\"]= gdf[\"geometry\"].to_crs(geographic_prj_info).x\n",
    "    columns_of_interest = [\"age\",\"race\",\"sex\",\"ethnicity\",\"arr_type\",\"arr_chrg\",\"chrgdesc\",\"chrg_cnt\",\"fel_misd\",\"dt_info\", \"month\", \"year\", \"lat\",'lon', \"geometry\"]\n",
    "    return gdf[columns_of_interest]\n",
    "    \n",
    "    "
   ]
  },
  {
   "cell_type": "markdown",
   "metadata": {},
   "source": [
    "### Run the function"
   ]
  },
  {
   "cell_type": "code",
   "execution_count": 19,
   "metadata": {},
   "outputs": [
    {
     "name": "stdout",
     "output_type": "stream",
     "text": [
      "(265228, 15)\n"
     ]
    },
    {
     "data": {
      "text/html": [
       "<div>\n",
       "<style scoped>\n",
       "    .dataframe tbody tr th:only-of-type {\n",
       "        vertical-align: middle;\n",
       "    }\n",
       "\n",
       "    .dataframe tbody tr th {\n",
       "        vertical-align: top;\n",
       "    }\n",
       "\n",
       "    .dataframe thead th {\n",
       "        text-align: right;\n",
       "    }\n",
       "</style>\n",
       "<table border=\"1\" class=\"dataframe\">\n",
       "  <thead>\n",
       "    <tr style=\"text-align: right;\">\n",
       "      <th></th>\n",
       "      <th>age</th>\n",
       "      <th>race</th>\n",
       "      <th>sex</th>\n",
       "      <th>ethnicity</th>\n",
       "      <th>arr_type</th>\n",
       "      <th>arr_chrg</th>\n",
       "      <th>chrgdesc</th>\n",
       "      <th>chrg_cnt</th>\n",
       "      <th>fel_misd</th>\n",
       "      <th>dt_info</th>\n",
       "      <th>month</th>\n",
       "      <th>year</th>\n",
       "      <th>lat</th>\n",
       "      <th>lon</th>\n",
       "      <th>geometry</th>\n",
       "    </tr>\n",
       "  </thead>\n",
       "  <tbody>\n",
       "    <tr>\n",
       "      <th>0</th>\n",
       "      <td>35</td>\n",
       "      <td>W</td>\n",
       "      <td>F</td>\n",
       "      <td>N</td>\n",
       "      <td>BK</td>\n",
       "      <td>13-2506A1</td>\n",
       "      <td>FAILURE TO APPEAR 2ND DEG (CRIM)              ...</td>\n",
       "      <td>1</td>\n",
       "      <td>M</td>\n",
       "      <td>2019-01-03 19:40:00+00:00</td>\n",
       "      <td>1</td>\n",
       "      <td>2019</td>\n",
       "      <td>32.252928</td>\n",
       "      <td>-110.892557</td>\n",
       "      <td>POINT (1016592.339 457255.232)</td>\n",
       "    </tr>\n",
       "    <tr>\n",
       "      <th>1</th>\n",
       "      <td>24</td>\n",
       "      <td>W</td>\n",
       "      <td>M</td>\n",
       "      <td>H</td>\n",
       "      <td>BK</td>\n",
       "      <td>13-1803</td>\n",
       "      <td>UNLAWFUL USE OF MEANS OF TRANSPORTATION       ...</td>\n",
       "      <td>1</td>\n",
       "      <td>F</td>\n",
       "      <td>2019-01-03 16:00:00+00:00</td>\n",
       "      <td>1</td>\n",
       "      <td>2019</td>\n",
       "      <td>32.243847</td>\n",
       "      <td>-110.975002</td>\n",
       "      <td>POINT (991133.155 453718.178)</td>\n",
       "    </tr>\n",
       "    <tr>\n",
       "      <th>2</th>\n",
       "      <td>27</td>\n",
       "      <td>H</td>\n",
       "      <td>M</td>\n",
       "      <td>H</td>\n",
       "      <td>FR</td>\n",
       "      <td>13-1602A1</td>\n",
       "      <td>CRIMINAL DAMAGE-DEFACE (CRIM)                 ...</td>\n",
       "      <td>1</td>\n",
       "      <td>M</td>\n",
       "      <td>2019-01-03 20:16:00+00:00</td>\n",
       "      <td>1</td>\n",
       "      <td>2019</td>\n",
       "      <td>32.209519</td>\n",
       "      <td>-110.980184</td>\n",
       "      <td>POINT (989639.809 441215.653)</td>\n",
       "    </tr>\n",
       "    <tr>\n",
       "      <th>3</th>\n",
       "      <td>35</td>\n",
       "      <td>B</td>\n",
       "      <td>M</td>\n",
       "      <td>U</td>\n",
       "      <td>BK</td>\n",
       "      <td>13-1506</td>\n",
       "      <td>BURGLARY 3RD DEGREE                           ...</td>\n",
       "      <td>1</td>\n",
       "      <td>F</td>\n",
       "      <td>2019-01-03 22:38:00+00:00</td>\n",
       "      <td>1</td>\n",
       "      <td>2019</td>\n",
       "      <td>32.264798</td>\n",
       "      <td>-110.972109</td>\n",
       "      <td>POINT (991960.710 461348.260)</td>\n",
       "    </tr>\n",
       "    <tr>\n",
       "      <th>4</th>\n",
       "      <td>24</td>\n",
       "      <td>W</td>\n",
       "      <td>M</td>\n",
       "      <td>H</td>\n",
       "      <td>BK</td>\n",
       "      <td>13-3415</td>\n",
       "      <td>DRUG PARAPHERNALIA-POSSESS/SELL/MANUFACTURE   ...</td>\n",
       "      <td>1</td>\n",
       "      <td>F</td>\n",
       "      <td>2019-01-03 16:00:00+00:00</td>\n",
       "      <td>1</td>\n",
       "      <td>2019</td>\n",
       "      <td>32.243847</td>\n",
       "      <td>-110.975002</td>\n",
       "      <td>POINT (991133.155 453718.178)</td>\n",
       "    </tr>\n",
       "  </tbody>\n",
       "</table>\n",
       "</div>"
      ],
      "text/plain": [
       "  age race sex ethnicity arr_type                   arr_chrg  \\\n",
       "0  35   W    F         N     BK    13-2506A1                   \n",
       "1  24   W    M         H     BK    13-1803                     \n",
       "2  27   H    M         H     FR    13-1602A1                   \n",
       "3  35   B    M         U     BK    13-1506                     \n",
       "4  24   W    M         H     BK    13-3415                     \n",
       "\n",
       "                                            chrgdesc  chrg_cnt fel_misd  \\\n",
       "0  FAILURE TO APPEAR 2ND DEG (CRIM)              ...         1        M   \n",
       "1  UNLAWFUL USE OF MEANS OF TRANSPORTATION       ...         1        F   \n",
       "2  CRIMINAL DAMAGE-DEFACE (CRIM)                 ...         1        M   \n",
       "3  BURGLARY 3RD DEGREE                           ...         1        F   \n",
       "4  DRUG PARAPHERNALIA-POSSESS/SELL/MANUFACTURE   ...         1        F   \n",
       "\n",
       "                    dt_info  month  year        lat         lon  \\\n",
       "0 2019-01-03 19:40:00+00:00      1  2019  32.252928 -110.892557   \n",
       "1 2019-01-03 16:00:00+00:00      1  2019  32.243847 -110.975002   \n",
       "2 2019-01-03 20:16:00+00:00      1  2019  32.209519 -110.980184   \n",
       "3 2019-01-03 22:38:00+00:00      1  2019  32.264798 -110.972109   \n",
       "4 2019-01-03 16:00:00+00:00      1  2019  32.243847 -110.975002   \n",
       "\n",
       "                         geometry  \n",
       "0  POINT (1016592.339 457255.232)  \n",
       "1   POINT (991133.155 453718.178)  \n",
       "2   POINT (989639.809 441215.653)  \n",
       "3   POINT (991960.710 461348.260)  \n",
       "4   POINT (991133.155 453718.178)  "
      ]
     },
     "execution_count": 19,
     "metadata": {},
     "output_type": "execute_result"
    }
   ],
   "source": [
    "arrests_data = prepare_data(arrests_csv)\n",
    "\n",
    "print(arrests_data.shape)\n",
    "\n",
    "arrests_data.head()"
   ]
  },
  {
   "cell_type": "markdown",
   "metadata": {},
   "source": [
    "### Plot results to make sure the data looks right"
   ]
  },
  {
   "cell_type": "code",
   "execution_count": 24,
   "metadata": {},
   "outputs": [
    {
     "name": "stderr",
     "output_type": "stream",
     "text": [
      "/home/alex/anaconda3/envs/geoprocessing/lib/python3.7/site-packages/pyproj/crs/crs.py:55: FutureWarning: '+init=<authority>:<code>' syntax is deprecated. '<authority>:<code>' is the preferred initialization method. When making the change, be mindful of axis order changes: https://pyproj4.github.io/pyproj/stable/gotchas.html#axis-order-changes-in-proj-6\n",
      "  return _prepare_from_string(\" \".join(pjargs))\n"
     ]
    },
    {
     "data": {
      "text/html": [
       "<div>\n",
       "<style scoped>\n",
       "    .dataframe tbody tr th:only-of-type {\n",
       "        vertical-align: middle;\n",
       "    }\n",
       "\n",
       "    .dataframe tbody tr th {\n",
       "        vertical-align: top;\n",
       "    }\n",
       "\n",
       "    .dataframe thead th {\n",
       "        text-align: right;\n",
       "    }\n",
       "</style>\n",
       "<table border=\"1\" class=\"dataframe\">\n",
       "  <thead>\n",
       "    <tr style=\"text-align: right;\">\n",
       "      <th></th>\n",
       "      <th>name</th>\n",
       "      <th>abbreviation</th>\n",
       "      <th>capital</th>\n",
       "      <th>city</th>\n",
       "      <th>population</th>\n",
       "      <th>area</th>\n",
       "      <th>waterarea</th>\n",
       "      <th>landarea</th>\n",
       "      <th>houseseats</th>\n",
       "      <th>statehood</th>\n",
       "      <th>group</th>\n",
       "      <th>geometry</th>\n",
       "    </tr>\n",
       "  </thead>\n",
       "  <tbody>\n",
       "    <tr>\n",
       "      <th>0</th>\n",
       "      <td>Arizona</td>\n",
       "      <td>AZ</td>\n",
       "      <td>Phoenix</td>\n",
       "      <td>Phoenix</td>\n",
       "      <td>6626624</td>\n",
       "      <td>295233</td>\n",
       "      <td>1026</td>\n",
       "      <td>294207</td>\n",
       "      <td>9</td>\n",
       "      <td>1912-02-14</td>\n",
       "      <td>US States</td>\n",
       "      <td>POLYGON ((518395.733 2184139.412, 519577.797 2...</td>\n",
       "    </tr>\n",
       "  </tbody>\n",
       "</table>\n",
       "</div>"
      ],
      "text/plain": [
       "      name abbreviation  capital     city  population    area  waterarea  \\\n",
       "0  Arizona           AZ  Phoenix  Phoenix     6626624  295233       1026   \n",
       "\n",
       "   landarea  houseseats   statehood      group  \\\n",
       "0    294207           9  1912-02-14  US States   \n",
       "\n",
       "                                            geometry  \n",
       "0  POLYGON ((518395.733 2184139.412, 519577.797 2...  "
      ]
     },
     "execution_count": 24,
     "metadata": {},
     "output_type": "execute_result"
    }
   ],
   "source": [
    "az_boundary = \"https://raw.githubusercontent.com/glynnbird/usstatesgeojson/master/arizona.geojson\"\n",
    "az_boundary_gdf = gpd.read_file(az_boundary)\n",
    "az_boundary_gdf_prj = az_boundary_gdf.to_crs(arrest_prj_info)\n",
    "az_boundary_gdf_prj.head()"
   ]
  },
  {
   "cell_type": "code",
   "execution_count": 26,
   "metadata": {},
   "outputs": [
    {
     "data": {
      "image/png": "[encoded data removed]",
      "text/plain": [
       "<Figure size 720x720 with 1 Axes>"
      ]
     },
     "metadata": {},
     "output_type": "display_data"
    }
   ],
   "source": [
    "fig, ax = plt.subplots(figsize=(10,10))\n",
    "az_boundary_gdf_prj.plot(ax=ax, color=\"gray\")\n",
    "arrests_data.plot(ax=ax, color=\"red\")\n",
    "plt.show()"
   ]
  },
  {
   "cell_type": "code",
   "execution_count": 27,
   "metadata": {},
   "outputs": [
    {
     "name": "stderr",
     "output_type": "stream",
     "text": [
      "/home/alex/anaconda3/envs/geoprocessing/lib/python3.7/site-packages/pyproj/crs/crs.py:55: FutureWarning: '+init=<authority>:<code>' syntax is deprecated. '<authority>:<code>' is the preferred initialization method. When making the change, be mindful of axis order changes: https://pyproj4.github.io/pyproj/stable/gotchas.html#axis-order-changes-in-proj-6\n",
      "  return _prepare_from_string(\" \".join(pjargs))\n"
     ]
    },
    {
     "data": {
      "text/html": [
       "<div>\n",
       "<style scoped>\n",
       "    .dataframe tbody tr th:only-of-type {\n",
       "        vertical-align: middle;\n",
       "    }\n",
       "\n",
       "    .dataframe tbody tr th {\n",
       "        vertical-align: top;\n",
       "    }\n",
       "\n",
       "    .dataframe thead th {\n",
       "        text-align: right;\n",
       "    }\n",
       "</style>\n",
       "<table border=\"1\" class=\"dataframe\">\n",
       "  <thead>\n",
       "    <tr style=\"text-align: right;\">\n",
       "      <th></th>\n",
       "      <th>OBJECTID</th>\n",
       "      <th>ORD</th>\n",
       "      <th>BOOK</th>\n",
       "      <th>PAGE</th>\n",
       "      <th>EFF_DATE</th>\n",
       "      <th>CITY_CD</th>\n",
       "      <th>CITY_DS</th>\n",
       "      <th>SEQ_NUM</th>\n",
       "      <th>DOC_Link</th>\n",
       "      <th>DEANNEX</th>\n",
       "      <th>PC_UID</th>\n",
       "      <th>URL</th>\n",
       "      <th>DATASOURCE</th>\n",
       "      <th>ShapeSTArea</th>\n",
       "      <th>ShapeSTLength</th>\n",
       "      <th>geometry</th>\n",
       "    </tr>\n",
       "  </thead>\n",
       "  <tbody>\n",
       "    <tr>\n",
       "      <th>0</th>\n",
       "      <td>1</td>\n",
       "      <td>(O)96-38</td>\n",
       "      <td>0</td>\n",
       "      <td>0</td>\n",
       "      <td>1996-10-26T00:00:00</td>\n",
       "      <td>OV</td>\n",
       "      <td>ORO VALLEY</td>\n",
       "      <td></td>\n",
       "      <td>http://dot.pima.gov/eim/dms/dmssearch.cfm?AppN...</td>\n",
       "      <td>N</td>\n",
       "      <td>1</td>\n",
       "      <td>https://www.tucsonaz.gov/apps/maps-and-records...</td>\n",
       "      <td>ANNEX</td>\n",
       "      <td>1.710033e+06</td>\n",
       "      <td>5233.412360</td>\n",
       "      <td>POLYGON ((981598.166 508784.985, 982924.229 50...</td>\n",
       "    </tr>\n",
       "    <tr>\n",
       "      <th>1</th>\n",
       "      <td>2</td>\n",
       "      <td>2004-11</td>\n",
       "      <td>0</td>\n",
       "      <td>0</td>\n",
       "      <td>2004-06-09T00:00:00</td>\n",
       "      <td>SAH</td>\n",
       "      <td>SAHUARITA</td>\n",
       "      <td></td>\n",
       "      <td>http://dot.pima.gov/eim/dms/dmssearch.cfm?AppN...</td>\n",
       "      <td>N</td>\n",
       "      <td>2</td>\n",
       "      <td>https://www.tucsonaz.gov/apps/maps-and-records...</td>\n",
       "      <td>ANNEX</td>\n",
       "      <td>4.334161e+05</td>\n",
       "      <td>3109.939607</td>\n",
       "      <td>POLYGON ((984404.908 330084.115, 984404.908 32...</td>\n",
       "    </tr>\n",
       "    <tr>\n",
       "      <th>2</th>\n",
       "      <td>3</td>\n",
       "      <td>1997-02</td>\n",
       "      <td>49</td>\n",
       "      <td>0</td>\n",
       "      <td>1997-01-09T00:00:00</td>\n",
       "      <td>SAH</td>\n",
       "      <td>SAHUARITA</td>\n",
       "      <td></td>\n",
       "      <td>http://dot.pima.gov/eim/dms/dmssearch.cfm?AppN...</td>\n",
       "      <td>N</td>\n",
       "      <td>3</td>\n",
       "      <td>https://www.tucsonaz.gov/apps/maps-and-records...</td>\n",
       "      <td>ANNEX</td>\n",
       "      <td>1.752417e+06</td>\n",
       "      <td>5295.943864</td>\n",
       "      <td>POLYGON ((993679.321 352317.877, 993666.005 35...</td>\n",
       "    </tr>\n",
       "    <tr>\n",
       "      <th>3</th>\n",
       "      <td>4</td>\n",
       "      <td>1996-01</td>\n",
       "      <td>49</td>\n",
       "      <td>19</td>\n",
       "      <td>1997-01-23T00:00:00</td>\n",
       "      <td>SAH</td>\n",
       "      <td>SAHUARITA</td>\n",
       "      <td></td>\n",
       "      <td>http://dot.pima.gov/eim/dms/dmssearch.cfm?AppN...</td>\n",
       "      <td>N</td>\n",
       "      <td>4</td>\n",
       "      <td>https://www.tucsonaz.gov/apps/maps-and-records...</td>\n",
       "      <td>ANNEX</td>\n",
       "      <td>2.812252e+07</td>\n",
       "      <td>26610.785474</td>\n",
       "      <td>POLYGON ((995763.849 363124.119, 995684.849 36...</td>\n",
       "    </tr>\n",
       "    <tr>\n",
       "      <th>4</th>\n",
       "      <td>5</td>\n",
       "      <td>(O)89-16</td>\n",
       "      <td>31</td>\n",
       "      <td>92</td>\n",
       "      <td>1989-11-08T00:00:00</td>\n",
       "      <td>OV</td>\n",
       "      <td>ORO VALLEY</td>\n",
       "      <td></td>\n",
       "      <td>http://dot.pima.gov/eim/dms/dmssearch.cfm?AppN...</td>\n",
       "      <td>N</td>\n",
       "      <td>5</td>\n",
       "      <td>https://www.tucsonaz.gov/apps/maps-and-records...</td>\n",
       "      <td>ANNEX</td>\n",
       "      <td>1.034462e+07</td>\n",
       "      <td>13693.331838</td>\n",
       "      <td>POLYGON ((984331.604 506799.922, 984329.542 50...</td>\n",
       "    </tr>\n",
       "  </tbody>\n",
       "</table>\n",
       "</div>"
      ],
      "text/plain": [
       "   OBJECTID       ORD  BOOK  PAGE             EFF_DATE CITY_CD     CITY_DS  \\\n",
       "0         1  (O)96-38     0     0  1996-10-26T00:00:00      OV  ORO VALLEY   \n",
       "1         2   2004-11     0     0  2004-06-09T00:00:00     SAH   SAHUARITA   \n",
       "2         3   1997-02    49     0  1997-01-09T00:00:00     SAH   SAHUARITA   \n",
       "3         4   1996-01    49    19  1997-01-23T00:00:00     SAH   SAHUARITA   \n",
       "4         5  (O)89-16    31    92  1989-11-08T00:00:00      OV  ORO VALLEY   \n",
       "\n",
       "  SEQ_NUM                                           DOC_Link DEANNEX  PC_UID  \\\n",
       "0          http://dot.pima.gov/eim/dms/dmssearch.cfm?AppN...       N       1   \n",
       "1          http://dot.pima.gov/eim/dms/dmssearch.cfm?AppN...       N       2   \n",
       "2          http://dot.pima.gov/eim/dms/dmssearch.cfm?AppN...       N       3   \n",
       "3          http://dot.pima.gov/eim/dms/dmssearch.cfm?AppN...       N       4   \n",
       "4          http://dot.pima.gov/eim/dms/dmssearch.cfm?AppN...       N       5   \n",
       "\n",
       "                                                 URL DATASOURCE   ShapeSTArea  \\\n",
       "0  https://www.tucsonaz.gov/apps/maps-and-records...      ANNEX  1.710033e+06   \n",
       "1  https://www.tucsonaz.gov/apps/maps-and-records...      ANNEX  4.334161e+05   \n",
       "2  https://www.tucsonaz.gov/apps/maps-and-records...      ANNEX  1.752417e+06   \n",
       "3  https://www.tucsonaz.gov/apps/maps-and-records...      ANNEX  2.812252e+07   \n",
       "4  https://www.tucsonaz.gov/apps/maps-and-records...      ANNEX  1.034462e+07   \n",
       "\n",
       "   ShapeSTLength                                           geometry  \n",
       "0    5233.412360  POLYGON ((981598.166 508784.985, 982924.229 50...  \n",
       "1    3109.939607  POLYGON ((984404.908 330084.115, 984404.908 32...  \n",
       "2    5295.943864  POLYGON ((993679.321 352317.877, 993666.005 35...  \n",
       "3   26610.785474  POLYGON ((995763.849 363124.119, 995684.849 36...  \n",
       "4   13693.331838  POLYGON ((984331.604 506799.922, 984329.542 50...  "
      ]
     },
     "execution_count": 27,
     "metadata": {},
     "output_type": "execute_result"
    }
   ],
   "source": [
    "tucson_jurisdiction_boundaries = \"https://opendata.arcgis.com/datasets/b53bbe832e4e4d94a31730b596487d28_0.geojson\"\n",
    "tucson_boundary_gdf = gpd.read_file(tucson_jurisdiction_boundaries)\n",
    "tucson_boundary_gdf_prj = tucson_boundary_gdf.to_crs(arrest_prj_info)\n",
    "tucson_boundary_gdf_prj.head()"
   ]
  },
  {
   "cell_type": "code",
   "execution_count": 33,
   "metadata": {},
   "outputs": [
    {
     "data": {
      "image/png": "[encoded data removed]",
      "text/plain": [
       "<Figure size 1440x720 with 1 Axes>"
      ]
     },
     "metadata": {},
     "output_type": "display_data"
    }
   ],
   "source": [
    "fig, ax = plt.subplots(figsize=(20,10))\n",
    "tucson_boundary_gdf_prj.plot(ax=ax, color=\"gray\")\n",
    "arrests_data.plot(ax=ax, color=\"red\", markersize=0.25)\n",
    "plt.show()"
   ]
  },
  {
   "cell_type": "markdown",
   "metadata": {},
   "source": [
    "### Saving to CSV and GeoJSON"
   ]
  },
  {
   "cell_type": "code",
   "execution_count": 35,
   "metadata": {},
   "outputs": [],
   "source": [
    "arrests_data.drop(columns=\"geometry\").to_csv(\"../data/cleaned_TPD_Arrests_2016-19.csv\")"
   ]
  },
  {
   "cell_type": "code",
   "execution_count": 37,
   "metadata": {},
   "outputs": [],
   "source": [
    "arrests_data.to_file(\"../data/cleaned_TPD_Arrests_2016-19.geojson\", driver=\"GeoJSON\")"
   ]
  }
 ],
 "metadata": {
  "kernelspec": {
   "display_name": "Python 3",
   "language": "python",
   "name": "python3"
  },
  "language_info": {
   "codemirror_mode": {
    "name": "ipython",
    "version": 3
   },
   "file_extension": ".py",
   "mimetype": "text/x-python",
   "name": "python",
   "nbconvert_exporter": "python",
   "pygments_lexer": "ipython3",
   "version": "3.7.6"
  }
 },
 "nbformat": 4,
 "nbformat_minor": 4
}
