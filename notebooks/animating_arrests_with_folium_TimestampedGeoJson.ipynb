{
 "cells": [
  {
   "cell_type": "markdown",
   "metadata": {},
   "source": [
    "# In-Progress Animated Visualization\n",
    "### Libraries"
   ]
  },
  {
   "cell_type": "code",
   "execution_count": 2,
   "metadata": {},
   "outputs": [],
   "source": [
    "import geopandas as gpd\n",
    "import folium \n",
    "from folium.plugins import TimestampedGeoJson\n"
   ]
  },
  {
   "cell_type": "markdown",
   "metadata": {},
   "source": [
    "### Data Path"
   ]
  },
  {
   "cell_type": "code",
   "execution_count": 3,
   "metadata": {},
   "outputs": [],
   "source": [
    "arrests_data = \"../data/cleaned_TPD_Arrests_2016-19.geojson\""
   ]
  },
  {
   "cell_type": "markdown",
   "metadata": {},
   "source": [
    "### Functions"
   ]
  },
  {
   "cell_type": "code",
   "execution_count": 6,
   "metadata": {},
   "outputs": [],
   "source": [
    "def create_geojson_features(filepath):\n",
    "    df = gpd.read_file(filepath)\n",
    "    features = []\n",
    "    \n",
    "    for _, row in df.iterrows():\n",
    "        feature = {\n",
    "            'type': 'Feature',\n",
    "            'geometry': {\n",
    "                'type':'Point', \n",
    "                'coordinates':[row['lon'],row['lat']]\n",
    "            },\n",
    "            'properties': {\n",
    "                'time': row['dt_info'].__str__(),\n",
    "                'style': {'color' : ''},\n",
    "                'icon': 'circle'\n",
    "                }\n",
    "            }\n",
    "        features.append(feature)\n",
    "    return features\n",
    "\n",
    "def make_time_series_animation(geojson_features):\n",
    "    time_series_map = folium.Map(location = [32.2226, -110.9547],\n",
    "                                 tiles = \"CartoDB Positron\",\n",
    "                                 zoom_start = 10)\n",
    "    \n",
    "    TimestampedGeoJson(geojson_features,\n",
    "                       period = 'PT1H',\n",
    "                       duration = 'PT1H',\n",
    "                       transition_time = 250,\n",
    "                       auto_play = True).add_to(time_series_map)\n",
    "    \n",
    "    return time_series_map\n",
    "\n",
    "    "
   ]
  },
  {
   "cell_type": "markdown",
   "metadata": {},
   "source": [
    "### Run the code"
   ]
  },
  {
   "cell_type": "code",
   "execution_count": null,
   "metadata": {},
   "outputs": [],
   "source": [
    "arrests_geojson = create_geojson_features(arrests_data)\n",
    "arrests_animation = make_time_series_animation(arrests_geojson)\n",
    "arrests_animation"
   ]
  }
 ],
 "metadata": {
  "kernelspec": {
   "display_name": "Python 3",
   "language": "python",
   "name": "python3"
  },
  "language_info": {
   "codemirror_mode": {
    "name": "ipython",
    "version": 3
   },
   "file_extension": ".py",
   "mimetype": "text/x-python",
   "name": "python",
   "nbconvert_exporter": "python",
   "pygments_lexer": "ipython3",
   "version": "3.7.6"
  }
 },
 "nbformat": 4,
 "nbformat_minor": 4
}